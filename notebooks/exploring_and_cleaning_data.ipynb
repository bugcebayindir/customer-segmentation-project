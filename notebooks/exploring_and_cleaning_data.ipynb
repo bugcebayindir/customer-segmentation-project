{
 "cells": [
  {
   "cell_type": "code",
   "execution_count": 30,
   "id": "a115b6b2",
   "metadata": {},
   "outputs": [],
   "source": [
    "# import libraries\n",
    "\n",
    "import os\n",
    "import pandas as pd\n",
    "from sqlalchemy import create_engine\n",
    "from sqlalchemy import text\n",
    "from dotenv import load_dotenv\n",
    "\n",
    "import numpy as np\n",
    "import warnings\n",
    "warnings.filterwarnings(\"ignore\")"
   ]
  },
  {
   "cell_type": "code",
   "execution_count": 2,
   "id": "3336e980",
   "metadata": {},
   "outputs": [],
   "source": [
    "# connect to Redshift\n",
    "\n",
    "load_dotenv()\n",
    "dbname = os.getenv(\"dbname\")\n",
    "host = os.getenv(\"host\")\n",
    "port = os.getenv(\"port\")\n",
    "user = os.getenv(\"user\")\n",
    "password = os.getenv(\"password\")\n",
    "\n",
    "engine = create_engine(f\"postgresql+psycopg2://{user}:{password}@{host}:{port}/{dbname}\")"
   ]
  },
  {
   "cell_type": "code",
   "execution_count": 3,
   "id": "032c90e4",
   "metadata": {},
   "outputs": [
    {
     "data": {
      "text/html": [
       "<div>\n",
       "<style scoped>\n",
       "    .dataframe tbody tr th:only-of-type {\n",
       "        vertical-align: middle;\n",
       "    }\n",
       "\n",
       "    .dataframe tbody tr th {\n",
       "        vertical-align: top;\n",
       "    }\n",
       "\n",
       "    .dataframe thead th {\n",
       "        text-align: right;\n",
       "    }\n",
       "</style>\n",
       "<table border=\"1\" class=\"dataframe\">\n",
       "  <thead>\n",
       "    <tr style=\"text-align: right;\">\n",
       "      <th></th>\n",
       "      <th>table_name</th>\n",
       "    </tr>\n",
       "  </thead>\n",
       "  <tbody>\n",
       "    <tr>\n",
       "      <th>0</th>\n",
       "      <td>online_transactions</td>\n",
       "    </tr>\n",
       "    <tr>\n",
       "      <th>1</th>\n",
       "      <td>online_transactions_test</td>\n",
       "    </tr>\n",
       "    <tr>\n",
       "      <th>2</th>\n",
       "      <td>stock_description</td>\n",
       "    </tr>\n",
       "  </tbody>\n",
       "</table>\n",
       "</div>"
      ],
      "text/plain": [
       "                 table_name\n",
       "0       online_transactions\n",
       "1  online_transactions_test\n",
       "2         stock_description"
      ]
     },
     "execution_count": 3,
     "metadata": {},
     "output_type": "execute_result"
    }
   ],
   "source": [
    "# Use the read_sql() function to query this database tables\n",
    "\n",
    "query = \"\"\"select table_name from information_schema.tables\\\n",
    "            where table_schema='bootcamp1'\"\"\"\n",
    "pd.read_sql_query(text(query), engine)"
   ]
  },
  {
   "cell_type": "code",
   "execution_count": 4,
   "id": "d97ccbf8",
   "metadata": {},
   "outputs": [
    {
     "data": {
      "text/html": [
       "<div>\n",
       "<style scoped>\n",
       "    .dataframe tbody tr th:only-of-type {\n",
       "        vertical-align: middle;\n",
       "    }\n",
       "\n",
       "    .dataframe tbody tr th {\n",
       "        vertical-align: top;\n",
       "    }\n",
       "\n",
       "    .dataframe thead th {\n",
       "        text-align: right;\n",
       "    }\n",
       "</style>\n",
       "<table border=\"1\" class=\"dataframe\">\n",
       "  <thead>\n",
       "    <tr style=\"text-align: right;\">\n",
       "      <th></th>\n",
       "      <th>invoice</th>\n",
       "      <th>stock_code</th>\n",
       "      <th>quantity</th>\n",
       "      <th>invoice_date</th>\n",
       "      <th>price</th>\n",
       "      <th>customer_id</th>\n",
       "      <th>country</th>\n",
       "    </tr>\n",
       "  </thead>\n",
       "  <tbody>\n",
       "    <tr>\n",
       "      <th>0</th>\n",
       "      <td>536365</td>\n",
       "      <td>84029G</td>\n",
       "      <td>6</td>\n",
       "      <td>2010-12-01 08:26:00</td>\n",
       "      <td>3.39</td>\n",
       "      <td>u1785</td>\n",
       "      <td>United Kingdom</td>\n",
       "    </tr>\n",
       "    <tr>\n",
       "      <th>1</th>\n",
       "      <td>536366</td>\n",
       "      <td>22633</td>\n",
       "      <td>6</td>\n",
       "      <td>2010-12-01 08:28:00</td>\n",
       "      <td>1.85</td>\n",
       "      <td>u1785</td>\n",
       "      <td>United Kingdom</td>\n",
       "    </tr>\n",
       "    <tr>\n",
       "      <th>2</th>\n",
       "      <td>536368</td>\n",
       "      <td>22912</td>\n",
       "      <td>3</td>\n",
       "      <td>2010-12-01 08:34:00</td>\n",
       "      <td>4.95</td>\n",
       "      <td>u13047</td>\n",
       "      <td>United Kingdom</td>\n",
       "    </tr>\n",
       "    <tr>\n",
       "      <th>3</th>\n",
       "      <td>536367</td>\n",
       "      <td>22748</td>\n",
       "      <td>6</td>\n",
       "      <td>2010-12-01 08:34:00</td>\n",
       "      <td>2.10</td>\n",
       "      <td>u13047</td>\n",
       "      <td>United Kingdom</td>\n",
       "    </tr>\n",
       "    <tr>\n",
       "      <th>4</th>\n",
       "      <td>536367</td>\n",
       "      <td>22623</td>\n",
       "      <td>3</td>\n",
       "      <td>2010-12-01 08:34:00</td>\n",
       "      <td>4.95</td>\n",
       "      <td>u13047</td>\n",
       "      <td>United Kingdom</td>\n",
       "    </tr>\n",
       "    <tr>\n",
       "      <th>...</th>\n",
       "      <td>...</td>\n",
       "      <td>...</td>\n",
       "      <td>...</td>\n",
       "      <td>...</td>\n",
       "      <td>...</td>\n",
       "      <td>...</td>\n",
       "      <td>...</td>\n",
       "    </tr>\n",
       "    <tr>\n",
       "      <th>541905</th>\n",
       "      <td>581586</td>\n",
       "      <td>23275</td>\n",
       "      <td>24</td>\n",
       "      <td>2011-12-09 12:49:00</td>\n",
       "      <td>1.25</td>\n",
       "      <td>u13113</td>\n",
       "      <td>United Kingdom</td>\n",
       "    </tr>\n",
       "    <tr>\n",
       "      <th>541906</th>\n",
       "      <td>581587</td>\n",
       "      <td>22556</td>\n",
       "      <td>12</td>\n",
       "      <td>2011-12-09 12:50:00</td>\n",
       "      <td>1.65</td>\n",
       "      <td>u1268</td>\n",
       "      <td>France</td>\n",
       "    </tr>\n",
       "    <tr>\n",
       "      <th>541907</th>\n",
       "      <td>581587</td>\n",
       "      <td>22726</td>\n",
       "      <td>4</td>\n",
       "      <td>2011-12-09 12:50:00</td>\n",
       "      <td>3.75</td>\n",
       "      <td>u1268</td>\n",
       "      <td>France</td>\n",
       "    </tr>\n",
       "    <tr>\n",
       "      <th>541908</th>\n",
       "      <td>581587</td>\n",
       "      <td>23256</td>\n",
       "      <td>4</td>\n",
       "      <td>2011-12-09 12:50:00</td>\n",
       "      <td>4.15</td>\n",
       "      <td>u1268</td>\n",
       "      <td>France</td>\n",
       "    </tr>\n",
       "    <tr>\n",
       "      <th>541909</th>\n",
       "      <td>581587</td>\n",
       "      <td>23255</td>\n",
       "      <td>4</td>\n",
       "      <td>2011-12-09 12:50:00</td>\n",
       "      <td>4.15</td>\n",
       "      <td>u1268</td>\n",
       "      <td>France</td>\n",
       "    </tr>\n",
       "  </tbody>\n",
       "</table>\n",
       "<p>541910 rows × 7 columns</p>\n",
       "</div>"
      ],
      "text/plain": [
       "       invoice stock_code  quantity         invoice_date  price customer_id  \\\n",
       "0       536365     84029G         6  2010-12-01 08:26:00   3.39       u1785   \n",
       "1       536366      22633         6  2010-12-01 08:28:00   1.85       u1785   \n",
       "2       536368      22912         3  2010-12-01 08:34:00   4.95      u13047   \n",
       "3       536367      22748         6  2010-12-01 08:34:00   2.10      u13047   \n",
       "4       536367      22623         3  2010-12-01 08:34:00   4.95      u13047   \n",
       "...        ...        ...       ...                  ...    ...         ...   \n",
       "541905  581586      23275        24  2011-12-09 12:49:00   1.25      u13113   \n",
       "541906  581587      22556        12  2011-12-09 12:50:00   1.65       u1268   \n",
       "541907  581587      22726         4  2011-12-09 12:50:00   3.75       u1268   \n",
       "541908  581587      23256         4  2011-12-09 12:50:00   4.15       u1268   \n",
       "541909  581587      23255         4  2011-12-09 12:50:00   4.15       u1268   \n",
       "\n",
       "               country  \n",
       "0       United Kingdom  \n",
       "1       United Kingdom  \n",
       "2       United Kingdom  \n",
       "3       United Kingdom  \n",
       "4       United Kingdom  \n",
       "...                ...  \n",
       "541905  United Kingdom  \n",
       "541906          France  \n",
       "541907          France  \n",
       "541908          France  \n",
       "541909          France  \n",
       "\n",
       "[541910 rows x 7 columns]"
      ]
     },
     "execution_count": 4,
     "metadata": {},
     "output_type": "execute_result"
    }
   ],
   "source": [
    "# Use the read_sql() function to query this table and store the output as a variable called online_transactions\n",
    "\n",
    "query = \"\"\"SELECT * FROM bootcamp1.online_transactions\"\"\"\n",
    "online_transactions=pd.read_sql_query(text(query), engine)\n",
    "online_transactions"
   ]
  },
  {
   "cell_type": "code",
   "execution_count": 5,
   "id": "05456cea",
   "metadata": {},
   "outputs": [
    {
     "data": {
      "text/html": [
       "<div>\n",
       "<style scoped>\n",
       "    .dataframe tbody tr th:only-of-type {\n",
       "        vertical-align: middle;\n",
       "    }\n",
       "\n",
       "    .dataframe tbody tr th {\n",
       "        vertical-align: top;\n",
       "    }\n",
       "\n",
       "    .dataframe thead th {\n",
       "        text-align: right;\n",
       "    }\n",
       "</style>\n",
       "<table border=\"1\" class=\"dataframe\">\n",
       "  <thead>\n",
       "    <tr style=\"text-align: right;\">\n",
       "      <th></th>\n",
       "      <th>stock_code</th>\n",
       "      <th>description</th>\n",
       "    </tr>\n",
       "  </thead>\n",
       "  <tbody>\n",
       "    <tr>\n",
       "      <th>0</th>\n",
       "      <td>10002</td>\n",
       "      <td>INFLATABLE POLITICAL GLOBE</td>\n",
       "    </tr>\n",
       "    <tr>\n",
       "      <th>1</th>\n",
       "      <td>10080</td>\n",
       "      <td>GROOVY CACTUS INFLATABLE</td>\n",
       "    </tr>\n",
       "    <tr>\n",
       "      <th>2</th>\n",
       "      <td>10120</td>\n",
       "      <td>DOGGY RUBBER</td>\n",
       "    </tr>\n",
       "    <tr>\n",
       "      <th>3</th>\n",
       "      <td>10123C</td>\n",
       "      <td>HEARTS WRAPPING TAPE</td>\n",
       "    </tr>\n",
       "    <tr>\n",
       "      <th>4</th>\n",
       "      <td>10124A</td>\n",
       "      <td>SPOTS ON RED BOOKCOVER TAPE</td>\n",
       "    </tr>\n",
       "    <tr>\n",
       "      <th>...</th>\n",
       "      <td>...</td>\n",
       "      <td>...</td>\n",
       "    </tr>\n",
       "    <tr>\n",
       "      <th>3947</th>\n",
       "      <td>DCGSSGIRL</td>\n",
       "      <td>GIRLS PARTY BAG</td>\n",
       "    </tr>\n",
       "    <tr>\n",
       "      <th>3948</th>\n",
       "      <td>DOT</td>\n",
       "      <td>DOTCOM POSTAGE</td>\n",
       "    </tr>\n",
       "    <tr>\n",
       "      <th>3949</th>\n",
       "      <td>PADS</td>\n",
       "      <td>PADS TO MATCH ALL CUSHIONS</td>\n",
       "    </tr>\n",
       "    <tr>\n",
       "      <th>3950</th>\n",
       "      <td>POST</td>\n",
       "      <td>POSTAGE</td>\n",
       "    </tr>\n",
       "    <tr>\n",
       "      <th>3951</th>\n",
       "      <td>S</td>\n",
       "      <td>SAMPLES</td>\n",
       "    </tr>\n",
       "  </tbody>\n",
       "</table>\n",
       "<p>3952 rows × 2 columns</p>\n",
       "</div>"
      ],
      "text/plain": [
       "     stock_code                  description\n",
       "0         10002  INFLATABLE POLITICAL GLOBE \n",
       "1         10080     GROOVY CACTUS INFLATABLE\n",
       "2         10120                 DOGGY RUBBER\n",
       "3        10123C        HEARTS WRAPPING TAPE \n",
       "4        10124A  SPOTS ON RED BOOKCOVER TAPE\n",
       "...         ...                          ...\n",
       "3947  DCGSSGIRL              GIRLS PARTY BAG\n",
       "3948        DOT               DOTCOM POSTAGE\n",
       "3949       PADS   PADS TO MATCH ALL CUSHIONS\n",
       "3950       POST                      POSTAGE\n",
       "3951          S                      SAMPLES\n",
       "\n",
       "[3952 rows x 2 columns]"
      ]
     },
     "execution_count": 5,
     "metadata": {},
     "output_type": "execute_result"
    }
   ],
   "source": [
    "# Use the read_sql() function to query this table and store the output as a variable called stock_description\n",
    "\n",
    "query = \"\"\"SELECT * FROM bootcamp1.stock_description\"\"\"\n",
    "stock_description=pd.read_sql_query(text(query), engine)\n",
    "stock_description"
   ]
  },
  {
   "cell_type": "markdown",
   "id": "c274313c",
   "metadata": {},
   "source": [
    "## Exploring Data"
   ]
  },
  {
   "cell_type": "markdown",
   "id": "c831026b",
   "metadata": {},
   "source": [
    "### For online_transactions"
   ]
  },
  {
   "cell_type": "code",
   "execution_count": 6,
   "id": "50bb534e",
   "metadata": {},
   "outputs": [
    {
     "name": "stdout",
     "output_type": "stream",
     "text": [
      "<class 'pandas.core.frame.DataFrame'>\n",
      "RangeIndex: 541910 entries, 0 to 541909\n",
      "Data columns (total 7 columns):\n",
      " #   Column        Non-Null Count   Dtype  \n",
      "---  ------        --------------   -----  \n",
      " 0   invoice       541910 non-null  object \n",
      " 1   stock_code    541910 non-null  object \n",
      " 2   quantity      541910 non-null  int64  \n",
      " 3   invoice_date  541910 non-null  object \n",
      " 4   price         541910 non-null  float64\n",
      " 5   customer_id   541910 non-null  object \n",
      " 6   country       541910 non-null  object \n",
      "dtypes: float64(1), int64(1), object(5)\n",
      "memory usage: 28.9+ MB\n"
     ]
    }
   ],
   "source": [
    "online_transactions.info()"
   ]
  },
  {
   "cell_type": "code",
   "execution_count": 10,
   "id": "f384da0a",
   "metadata": {},
   "outputs": [
    {
     "data": {
      "text/plain": [
       "invoice         0\n",
       "stock_code      0\n",
       "quantity        0\n",
       "invoice_date    0\n",
       "price           0\n",
       "customer_id     0\n",
       "country         0\n",
       "dtype: int64"
      ]
     },
     "execution_count": 10,
     "metadata": {},
     "output_type": "execute_result"
    }
   ],
   "source": [
    "online_transactions.isna().sum()"
   ]
  },
  {
   "cell_type": "code",
   "execution_count": 13,
   "id": "6f0bdc99",
   "metadata": {},
   "outputs": [
    {
     "data": {
      "text/plain": [
       "invoice              0\n",
       "stock_code           0\n",
       "quantity             0\n",
       "invoice_date         0\n",
       "price                0\n",
       "customer_id     135080\n",
       "country              0\n",
       "dtype: int64"
      ]
     },
     "execution_count": 13,
     "metadata": {},
     "output_type": "execute_result"
    }
   ],
   "source": [
    "# fix missing data\n",
    "\n",
    "online_transactions = online_transactions.replace('', np.nan)\n",
    "online_transactions.isna().sum()"
   ]
  },
  {
   "cell_type": "code",
   "execution_count": 15,
   "id": "4188af5d",
   "metadata": {},
   "outputs": [
    {
     "data": {
      "text/plain": [
       "5270"
      ]
     },
     "execution_count": 15,
     "metadata": {},
     "output_type": "execute_result"
    }
   ],
   "source": [
    "online_transactions.duplicated().sum()"
   ]
  },
  {
   "cell_type": "code",
   "execution_count": 17,
   "id": "0e7540b9",
   "metadata": {},
   "outputs": [
    {
     "data": {
      "text/html": [
       "<div>\n",
       "<style scoped>\n",
       "    .dataframe tbody tr th:only-of-type {\n",
       "        vertical-align: middle;\n",
       "    }\n",
       "\n",
       "    .dataframe tbody tr th {\n",
       "        vertical-align: top;\n",
       "    }\n",
       "\n",
       "    .dataframe thead th {\n",
       "        text-align: right;\n",
       "    }\n",
       "</style>\n",
       "<table border=\"1\" class=\"dataframe\">\n",
       "  <thead>\n",
       "    <tr style=\"text-align: right;\">\n",
       "      <th></th>\n",
       "      <th>quantity</th>\n",
       "      <th>price</th>\n",
       "    </tr>\n",
       "  </thead>\n",
       "  <tbody>\n",
       "    <tr>\n",
       "      <th>count</th>\n",
       "      <td>541910.000000</td>\n",
       "      <td>541910.000000</td>\n",
       "    </tr>\n",
       "    <tr>\n",
       "      <th>mean</th>\n",
       "      <td>9.552234</td>\n",
       "      <td>4.611138</td>\n",
       "    </tr>\n",
       "    <tr>\n",
       "      <th>std</th>\n",
       "      <td>218.080957</td>\n",
       "      <td>96.759765</td>\n",
       "    </tr>\n",
       "    <tr>\n",
       "      <th>min</th>\n",
       "      <td>-80995.000000</td>\n",
       "      <td>-11062.060000</td>\n",
       "    </tr>\n",
       "    <tr>\n",
       "      <th>25%</th>\n",
       "      <td>1.000000</td>\n",
       "      <td>1.250000</td>\n",
       "    </tr>\n",
       "    <tr>\n",
       "      <th>50%</th>\n",
       "      <td>3.000000</td>\n",
       "      <td>2.080000</td>\n",
       "    </tr>\n",
       "    <tr>\n",
       "      <th>75%</th>\n",
       "      <td>10.000000</td>\n",
       "      <td>4.130000</td>\n",
       "    </tr>\n",
       "    <tr>\n",
       "      <th>max</th>\n",
       "      <td>80995.000000</td>\n",
       "      <td>38970.000000</td>\n",
       "    </tr>\n",
       "  </tbody>\n",
       "</table>\n",
       "</div>"
      ],
      "text/plain": [
       "            quantity          price\n",
       "count  541910.000000  541910.000000\n",
       "mean        9.552234       4.611138\n",
       "std       218.080957      96.759765\n",
       "min    -80995.000000  -11062.060000\n",
       "25%         1.000000       1.250000\n",
       "50%         3.000000       2.080000\n",
       "75%        10.000000       4.130000\n",
       "max     80995.000000   38970.000000"
      ]
     },
     "execution_count": 17,
     "metadata": {},
     "output_type": "execute_result"
    }
   ],
   "source": [
    "online_transactions.describe()"
   ]
  },
  {
   "cell_type": "code",
   "execution_count": 18,
   "id": "5fe52e0c",
   "metadata": {},
   "outputs": [
    {
     "data": {
      "text/html": [
       "<div>\n",
       "<style scoped>\n",
       "    .dataframe tbody tr th:only-of-type {\n",
       "        vertical-align: middle;\n",
       "    }\n",
       "\n",
       "    .dataframe tbody tr th {\n",
       "        vertical-align: top;\n",
       "    }\n",
       "\n",
       "    .dataframe thead th {\n",
       "        text-align: right;\n",
       "    }\n",
       "</style>\n",
       "<table border=\"1\" class=\"dataframe\">\n",
       "  <thead>\n",
       "    <tr style=\"text-align: right;\">\n",
       "      <th></th>\n",
       "      <th>invoice</th>\n",
       "      <th>stock_code</th>\n",
       "      <th>quantity</th>\n",
       "      <th>invoice_date</th>\n",
       "      <th>price</th>\n",
       "      <th>customer_id</th>\n",
       "      <th>country</th>\n",
       "    </tr>\n",
       "  </thead>\n",
       "  <tbody>\n",
       "    <tr>\n",
       "      <th>510457</th>\n",
       "      <td>C581484</td>\n",
       "      <td>23843</td>\n",
       "      <td>-80995</td>\n",
       "      <td>2011-12-09 09:27:00</td>\n",
       "      <td>2.08</td>\n",
       "      <td>u16446</td>\n",
       "      <td>United Kingdom</td>\n",
       "    </tr>\n",
       "    <tr>\n",
       "      <th>54223</th>\n",
       "      <td>C541433</td>\n",
       "      <td>23166</td>\n",
       "      <td>-74215</td>\n",
       "      <td>2011-01-18 10:17:00</td>\n",
       "      <td>1.04</td>\n",
       "      <td>u12346</td>\n",
       "      <td>United Kingdom</td>\n",
       "    </tr>\n",
       "    <tr>\n",
       "      <th>220324</th>\n",
       "      <td>556690</td>\n",
       "      <td>23005</td>\n",
       "      <td>-9600</td>\n",
       "      <td>2011-06-14 10:37:00</td>\n",
       "      <td>0.00</td>\n",
       "      <td>NaN</td>\n",
       "      <td>United Kingdom</td>\n",
       "    </tr>\n",
       "    <tr>\n",
       "      <th>192481</th>\n",
       "      <td>556691</td>\n",
       "      <td>23005</td>\n",
       "      <td>-9600</td>\n",
       "      <td>2011-06-14 10:37:00</td>\n",
       "      <td>0.00</td>\n",
       "      <td>NaN</td>\n",
       "      <td>United Kingdom</td>\n",
       "    </tr>\n",
       "    <tr>\n",
       "      <th>1465</th>\n",
       "      <td>C536757</td>\n",
       "      <td>84347</td>\n",
       "      <td>-9360</td>\n",
       "      <td>2010-12-02 14:23:00</td>\n",
       "      <td>0.03</td>\n",
       "      <td>u15838</td>\n",
       "      <td>United Kingdom</td>\n",
       "    </tr>\n",
       "    <tr>\n",
       "      <th>251851</th>\n",
       "      <td>556687</td>\n",
       "      <td>23003</td>\n",
       "      <td>-9058</td>\n",
       "      <td>2011-06-14 10:36:00</td>\n",
       "      <td>0.00</td>\n",
       "      <td>NaN</td>\n",
       "      <td>United Kingdom</td>\n",
       "    </tr>\n",
       "    <tr>\n",
       "      <th>101043</th>\n",
       "      <td>546152</td>\n",
       "      <td>72140F</td>\n",
       "      <td>-5368</td>\n",
       "      <td>2011-03-09 17:25:00</td>\n",
       "      <td>0.00</td>\n",
       "      <td>NaN</td>\n",
       "      <td>United Kingdom</td>\n",
       "    </tr>\n",
       "    <tr>\n",
       "      <th>419602</th>\n",
       "      <td>573596</td>\n",
       "      <td>79323W</td>\n",
       "      <td>-4830</td>\n",
       "      <td>2011-10-31 15:17:00</td>\n",
       "      <td>0.00</td>\n",
       "      <td>NaN</td>\n",
       "      <td>United Kingdom</td>\n",
       "    </tr>\n",
       "    <tr>\n",
       "      <th>347577</th>\n",
       "      <td>566768</td>\n",
       "      <td>16045</td>\n",
       "      <td>-3667</td>\n",
       "      <td>2011-09-14 17:53:00</td>\n",
       "      <td>0.00</td>\n",
       "      <td>NaN</td>\n",
       "      <td>United Kingdom</td>\n",
       "    </tr>\n",
       "    <tr>\n",
       "      <th>328533</th>\n",
       "      <td>565304</td>\n",
       "      <td>16259</td>\n",
       "      <td>-3167</td>\n",
       "      <td>2011-09-02 12:18:00</td>\n",
       "      <td>0.00</td>\n",
       "      <td>NaN</td>\n",
       "      <td>United Kingdom</td>\n",
       "    </tr>\n",
       "  </tbody>\n",
       "</table>\n",
       "</div>"
      ],
      "text/plain": [
       "        invoice stock_code  quantity         invoice_date  price customer_id  \\\n",
       "510457  C581484      23843    -80995  2011-12-09 09:27:00   2.08      u16446   \n",
       "54223   C541433      23166    -74215  2011-01-18 10:17:00   1.04      u12346   \n",
       "220324   556690      23005     -9600  2011-06-14 10:37:00   0.00         NaN   \n",
       "192481   556691      23005     -9600  2011-06-14 10:37:00   0.00         NaN   \n",
       "1465    C536757      84347     -9360  2010-12-02 14:23:00   0.03      u15838   \n",
       "251851   556687      23003     -9058  2011-06-14 10:36:00   0.00         NaN   \n",
       "101043   546152     72140F     -5368  2011-03-09 17:25:00   0.00         NaN   \n",
       "419602   573596     79323W     -4830  2011-10-31 15:17:00   0.00         NaN   \n",
       "347577   566768      16045     -3667  2011-09-14 17:53:00   0.00         NaN   \n",
       "328533   565304      16259     -3167  2011-09-02 12:18:00   0.00         NaN   \n",
       "\n",
       "               country  \n",
       "510457  United Kingdom  \n",
       "54223   United Kingdom  \n",
       "220324  United Kingdom  \n",
       "192481  United Kingdom  \n",
       "1465    United Kingdom  \n",
       "251851  United Kingdom  \n",
       "101043  United Kingdom  \n",
       "419602  United Kingdom  \n",
       "347577  United Kingdom  \n",
       "328533  United Kingdom  "
      ]
     },
     "execution_count": 18,
     "metadata": {},
     "output_type": "execute_result"
    }
   ],
   "source": [
    "online_transactions[online_transactions[\"quantity\"] < 0].sort_values(by=\"quantity\",ascending=True).head(10)"
   ]
  },
  {
   "cell_type": "code",
   "execution_count": 19,
   "id": "042b1355",
   "metadata": {},
   "outputs": [
    {
     "data": {
      "text/html": [
       "<div>\n",
       "<style scoped>\n",
       "    .dataframe tbody tr th:only-of-type {\n",
       "        vertical-align: middle;\n",
       "    }\n",
       "\n",
       "    .dataframe tbody tr th {\n",
       "        vertical-align: top;\n",
       "    }\n",
       "\n",
       "    .dataframe thead th {\n",
       "        text-align: right;\n",
       "    }\n",
       "</style>\n",
       "<table border=\"1\" class=\"dataframe\">\n",
       "  <thead>\n",
       "    <tr style=\"text-align: right;\">\n",
       "      <th></th>\n",
       "      <th>invoice</th>\n",
       "      <th>stock_code</th>\n",
       "      <th>quantity</th>\n",
       "      <th>invoice_date</th>\n",
       "      <th>price</th>\n",
       "      <th>customer_id</th>\n",
       "      <th>country</th>\n",
       "    </tr>\n",
       "  </thead>\n",
       "  <tbody>\n",
       "    <tr>\n",
       "      <th>302488</th>\n",
       "      <td>A563187</td>\n",
       "      <td>B</td>\n",
       "      <td>1</td>\n",
       "      <td>2011-08-12 14:52:00</td>\n",
       "      <td>-11062.06</td>\n",
       "      <td>NaN</td>\n",
       "      <td>United Kingdom</td>\n",
       "    </tr>\n",
       "    <tr>\n",
       "      <th>320012</th>\n",
       "      <td>A563186</td>\n",
       "      <td>B</td>\n",
       "      <td>1</td>\n",
       "      <td>2011-08-12 14:51:00</td>\n",
       "      <td>-11062.06</td>\n",
       "      <td>NaN</td>\n",
       "      <td>United Kingdom</td>\n",
       "    </tr>\n",
       "  </tbody>\n",
       "</table>\n",
       "</div>"
      ],
      "text/plain": [
       "        invoice stock_code  quantity         invoice_date     price  \\\n",
       "302488  A563187          B         1  2011-08-12 14:52:00 -11062.06   \n",
       "320012  A563186          B         1  2011-08-12 14:51:00 -11062.06   \n",
       "\n",
       "       customer_id         country  \n",
       "302488         NaN  United Kingdom  \n",
       "320012         NaN  United Kingdom  "
      ]
     },
     "execution_count": 19,
     "metadata": {},
     "output_type": "execute_result"
    }
   ],
   "source": [
    "online_transactions[online_transactions[\"price\"] < 0]"
   ]
  },
  {
   "cell_type": "code",
   "execution_count": 20,
   "id": "62ca5891",
   "metadata": {},
   "outputs": [
    {
     "data": {
      "text/plain": [
       "United Kingdom          495478\n",
       "Germany                   9495\n",
       "France                    8558\n",
       "EIRE                      8196\n",
       "Spain                     2533\n",
       "Netherlands               2371\n",
       "Belgium                   2069\n",
       "Switzerland               2002\n",
       "Portugal                  1519\n",
       "Australia                 1259\n",
       "Norway                    1086\n",
       "Italy                      803\n",
       "Channel Islands            758\n",
       "Finland                    695\n",
       "Cyprus                     622\n",
       "Sweden                     462\n",
       "Unspecified                446\n",
       "Austria                    401\n",
       "Denmark                    389\n",
       "Japan                      358\n",
       "Poland                     341\n",
       "Israel                     297\n",
       "USA                        291\n",
       "Hong Kong                  288\n",
       "Singapore                  229\n",
       "Iceland                    182\n",
       "Canada                     151\n",
       "Greece                     146\n",
       "Malta                      127\n",
       "United Arab Emirates        68\n",
       "European Community          61\n",
       "RSA                         58\n",
       "Lebanon                     45\n",
       "Lithuania                   35\n",
       "Brazil                      32\n",
       "Czech Republic              30\n",
       "Bahrain                     19\n",
       "Saudi Arabia                10\n",
       "Name: country, dtype: int64"
      ]
     },
     "execution_count": 20,
     "metadata": {},
     "output_type": "execute_result"
    }
   ],
   "source": [
    "online_transactions[\"country\"].value_counts()"
   ]
  },
  {
   "cell_type": "markdown",
   "id": "74d2286d",
   "metadata": {},
   "source": [
    "### For stock_description"
   ]
  },
  {
   "cell_type": "code",
   "execution_count": 7,
   "id": "ae5a4426",
   "metadata": {},
   "outputs": [
    {
     "name": "stdout",
     "output_type": "stream",
     "text": [
      "<class 'pandas.core.frame.DataFrame'>\n",
      "RangeIndex: 3952 entries, 0 to 3951\n",
      "Data columns (total 2 columns):\n",
      " #   Column       Non-Null Count  Dtype \n",
      "---  ------       --------------  ----- \n",
      " 0   stock_code   3952 non-null   object\n",
      " 1   description  3952 non-null   object\n",
      "dtypes: object(2)\n",
      "memory usage: 61.9+ KB\n"
     ]
    }
   ],
   "source": [
    "stock_description.info()"
   ]
  },
  {
   "cell_type": "code",
   "execution_count": 9,
   "id": "f21088db",
   "metadata": {},
   "outputs": [
    {
     "data": {
      "text/plain": [
       "stock_code     0\n",
       "description    0\n",
       "dtype: int64"
      ]
     },
     "execution_count": 9,
     "metadata": {},
     "output_type": "execute_result"
    }
   ],
   "source": [
    "stock_description.isna().sum()"
   ]
  },
  {
   "cell_type": "code",
   "execution_count": 14,
   "id": "e74b4e6e",
   "metadata": {},
   "outputs": [
    {
     "data": {
      "text/plain": [
       "stock_code     0\n",
       "description    0\n",
       "dtype: int64"
      ]
     },
     "execution_count": 14,
     "metadata": {},
     "output_type": "execute_result"
    }
   ],
   "source": [
    "# fix missing data\n",
    "\n",
    "stock_description = stock_description.replace('', np.nan)\n",
    "stock_description.isna().sum()"
   ]
  },
  {
   "cell_type": "code",
   "execution_count": 16,
   "id": "439d0fab",
   "metadata": {},
   "outputs": [
    {
     "data": {
      "text/plain": [
       "0"
      ]
     },
     "execution_count": 16,
     "metadata": {},
     "output_type": "execute_result"
    }
   ],
   "source": [
    "stock_description.duplicated().sum()"
   ]
  },
  {
   "cell_type": "code",
   "execution_count": 22,
   "id": "6e3cb827",
   "metadata": {},
   "outputs": [
    {
     "data": {
      "text/html": [
       "<div>\n",
       "<style scoped>\n",
       "    .dataframe tbody tr th:only-of-type {\n",
       "        vertical-align: middle;\n",
       "    }\n",
       "\n",
       "    .dataframe tbody tr th {\n",
       "        vertical-align: top;\n",
       "    }\n",
       "\n",
       "    .dataframe thead th {\n",
       "        text-align: right;\n",
       "    }\n",
       "</style>\n",
       "<table border=\"1\" class=\"dataframe\">\n",
       "  <thead>\n",
       "    <tr style=\"text-align: right;\">\n",
       "      <th></th>\n",
       "      <th>stock_code</th>\n",
       "      <th>description</th>\n",
       "    </tr>\n",
       "  </thead>\n",
       "  <tbody>\n",
       "    <tr>\n",
       "      <th>count</th>\n",
       "      <td>3952</td>\n",
       "      <td>3952</td>\n",
       "    </tr>\n",
       "    <tr>\n",
       "      <th>unique</th>\n",
       "      <td>3905</td>\n",
       "      <td>3785</td>\n",
       "    </tr>\n",
       "    <tr>\n",
       "      <th>top</th>\n",
       "      <td>22600</td>\n",
       "      <td>?</td>\n",
       "    </tr>\n",
       "    <tr>\n",
       "      <th>freq</th>\n",
       "      <td>2</td>\n",
       "      <td>47</td>\n",
       "    </tr>\n",
       "  </tbody>\n",
       "</table>\n",
       "</div>"
      ],
      "text/plain": [
       "       stock_code description\n",
       "count        3952        3952\n",
       "unique       3905        3785\n",
       "top         22600           ?\n",
       "freq            2          47"
      ]
     },
     "execution_count": 22,
     "metadata": {},
     "output_type": "execute_result"
    }
   ],
   "source": [
    "stock_description.describe()"
   ]
  },
  {
   "cell_type": "code",
   "execution_count": 21,
   "id": "c3ecd847",
   "metadata": {},
   "outputs": [
    {
     "data": {
      "text/plain": [
       "?                                     47\n",
       "METAL SIGN,CUPCAKE SINGLE HOOK         6\n",
       "CINAMMON SET OF 9 T-LIGHTS             2\n",
       "COLUMBIAN CANDLE RECTANGLE             2\n",
       "3 WHITE CHOC MORRIS BOXED CANDLES      2\n",
       "                                      ..\n",
       "MAGNETS PACK OF 4 SWALLOWS             1\n",
       "MAGNETS PACK OF 4 CHILDHOOD MEMORY     1\n",
       "MAGNETS PACK OF 4 HOME SWEET HOME      1\n",
       "MAGNETS PACK OF 4 VINTAGE COLLAGE      1\n",
       "SAMPLES                                1\n",
       "Name: description, Length: 3785, dtype: int64"
      ]
     },
     "execution_count": 21,
     "metadata": {},
     "output_type": "execute_result"
    }
   ],
   "source": [
    "stock_description.description.value_counts()"
   ]
  },
  {
   "cell_type": "code",
   "execution_count": 23,
   "id": "b6198768",
   "metadata": {},
   "outputs": [
    {
     "data": {
      "text/html": [
       "<div>\n",
       "<style scoped>\n",
       "    .dataframe tbody tr th:only-of-type {\n",
       "        vertical-align: middle;\n",
       "    }\n",
       "\n",
       "    .dataframe tbody tr th {\n",
       "        vertical-align: top;\n",
       "    }\n",
       "\n",
       "    .dataframe thead th {\n",
       "        text-align: right;\n",
       "    }\n",
       "</style>\n",
       "<table border=\"1\" class=\"dataframe\">\n",
       "  <thead>\n",
       "    <tr style=\"text-align: right;\">\n",
       "      <th></th>\n",
       "      <th>count</th>\n",
       "    </tr>\n",
       "  </thead>\n",
       "  <tbody>\n",
       "    <tr>\n",
       "      <th>0</th>\n",
       "      <td>22</td>\n",
       "    </tr>\n",
       "  </tbody>\n",
       "</table>\n",
       "</div>"
      ],
      "text/plain": [
       "   count\n",
       "0     22"
      ]
     },
     "execution_count": 23,
     "metadata": {},
     "output_type": "execute_result"
    }
   ],
   "source": [
    "# looking at the data where stock codes are missing in the stock description table\n",
    "\n",
    "query = \"\"\"select count(distinct t1.stock_code)\n",
    "           from bootcamp1.online_transactions t1\n",
    "           left join bootcamp1.stock_description t2 on t1.stock_code = t2.stock_code\n",
    "           where t2.stock_code is null\n",
    "            and customer_id <> ''\n",
    "           \"\"\"\n",
    "pd.read_sql(text(query), engine)"
   ]
  },
  {
   "cell_type": "code",
   "execution_count": 25,
   "id": "5f495864",
   "metadata": {},
   "outputs": [
    {
     "data": {
      "text/html": [
       "<div>\n",
       "<style scoped>\n",
       "    .dataframe tbody tr th:only-of-type {\n",
       "        vertical-align: middle;\n",
       "    }\n",
       "\n",
       "    .dataframe tbody tr th {\n",
       "        vertical-align: top;\n",
       "    }\n",
       "\n",
       "    .dataframe thead th {\n",
       "        text-align: right;\n",
       "    }\n",
       "</style>\n",
       "<table border=\"1\" class=\"dataframe\">\n",
       "  <thead>\n",
       "    <tr style=\"text-align: right;\">\n",
       "      <th></th>\n",
       "      <th>stock_code</th>\n",
       "    </tr>\n",
       "  </thead>\n",
       "  <tbody>\n",
       "    <tr>\n",
       "      <th>0</th>\n",
       "      <td>22686</td>\n",
       "    </tr>\n",
       "    <tr>\n",
       "      <th>1</th>\n",
       "      <td>21703</td>\n",
       "    </tr>\n",
       "    <tr>\n",
       "      <th>2</th>\n",
       "      <td>22878</td>\n",
       "    </tr>\n",
       "    <tr>\n",
       "      <th>3</th>\n",
       "      <td>46000P</td>\n",
       "    </tr>\n",
       "    <tr>\n",
       "      <th>4</th>\n",
       "      <td>46000S</td>\n",
       "    </tr>\n",
       "    <tr>\n",
       "      <th>5</th>\n",
       "      <td>21705</td>\n",
       "    </tr>\n",
       "    <tr>\n",
       "      <th>6</th>\n",
       "      <td>21704</td>\n",
       "    </tr>\n",
       "    <tr>\n",
       "      <th>7</th>\n",
       "      <td>D</td>\n",
       "    </tr>\n",
       "    <tr>\n",
       "      <th>8</th>\n",
       "      <td>22889</td>\n",
       "    </tr>\n",
       "    <tr>\n",
       "      <th>9</th>\n",
       "      <td>16151A</td>\n",
       "    </tr>\n",
       "    <tr>\n",
       "      <th>10</th>\n",
       "      <td>84247K</td>\n",
       "    </tr>\n",
       "    <tr>\n",
       "      <th>11</th>\n",
       "      <td>CRUK</td>\n",
       "    </tr>\n",
       "    <tr>\n",
       "      <th>12</th>\n",
       "      <td>23702</td>\n",
       "    </tr>\n",
       "    <tr>\n",
       "      <th>13</th>\n",
       "      <td>46000R</td>\n",
       "    </tr>\n",
       "    <tr>\n",
       "      <th>14</th>\n",
       "      <td>M</td>\n",
       "    </tr>\n",
       "    <tr>\n",
       "      <th>15</th>\n",
       "      <td>46000U</td>\n",
       "    </tr>\n",
       "    <tr>\n",
       "      <th>16</th>\n",
       "      <td>20964</td>\n",
       "    </tr>\n",
       "    <tr>\n",
       "      <th>17</th>\n",
       "      <td>46000M</td>\n",
       "    </tr>\n",
       "    <tr>\n",
       "      <th>18</th>\n",
       "      <td>18007</td>\n",
       "    </tr>\n",
       "    <tr>\n",
       "      <th>19</th>\n",
       "      <td>BANK CHARGES</td>\n",
       "    </tr>\n",
       "    <tr>\n",
       "      <th>20</th>\n",
       "      <td>23444</td>\n",
       "    </tr>\n",
       "    <tr>\n",
       "      <th>21</th>\n",
       "      <td>16162M</td>\n",
       "    </tr>\n",
       "  </tbody>\n",
       "</table>\n",
       "</div>"
      ],
      "text/plain": [
       "      stock_code\n",
       "0          22686\n",
       "1          21703\n",
       "2          22878\n",
       "3         46000P\n",
       "4         46000S\n",
       "5          21705\n",
       "6          21704\n",
       "7              D\n",
       "8          22889\n",
       "9         16151A\n",
       "10        84247K\n",
       "11          CRUK\n",
       "12         23702\n",
       "13        46000R\n",
       "14             M\n",
       "15        46000U\n",
       "16         20964\n",
       "17        46000M\n",
       "18         18007\n",
       "19  BANK CHARGES\n",
       "20         23444\n",
       "21        16162M"
      ]
     },
     "execution_count": 25,
     "metadata": {},
     "output_type": "execute_result"
    }
   ],
   "source": [
    "query = \"\"\"SELECT DISTINCT t1.stock_code\n",
    "            FROM bootcamp1.online_transactions AS t1\n",
    "            LEFT JOIN bootcamp1.stock_description AS t2\n",
    "            ON t1.stock_code = t2.stock_code\n",
    "            WHERE t2.stock_code is null\n",
    "            AND customer_id <> ''\n",
    "            \"\"\"\n",
    "pd.read_sql(text(query), engine)"
   ]
  },
  {
   "cell_type": "markdown",
   "id": "9b946595",
   "metadata": {},
   "source": [
    "## Cleaning Data"
   ]
  },
  {
   "cell_type": "markdown",
   "id": "861b6543",
   "metadata": {},
   "source": [
    "1. Removing all customers with no customer id\n",
    "2. Joining descriptions to do the online transaction table, and replaces missing values '?' with 'Unknown'\n",
    "3. Removing all invoices that have the stock code 'BANK CHARGES', 'POSTAGE', 'D', 'M' and 'CRUK'\n",
    "4. Removing all invoices where quantity is less than 0"
   ]
  },
  {
   "cell_type": "code",
   "execution_count": 26,
   "id": "03f9bff6",
   "metadata": {},
   "outputs": [],
   "source": [
    "query = \"\"\"\n",
    "SELECT ot.*,\n",
    "        case when sd.description = '?' or sd.description is null then 'Unknown' else sd.description end as description\n",
    "FROM bootcamp1.online_transactions ot\n",
    "LEFT JOIN bootcamp1.stock_description sd ON ot.stock_code = sd.stock_code\n",
    "WHERE ot.customer_id <> '' \n",
    "AND ot.stock_code NOT IN ('BANK CHARGES', 'POSTAGE', 'D', 'M', 'CRUK')\n",
    "AND ot.quantity > 0 \"\"\"\n",
    "\n",
    "online_transaction = pd.read_sql(text(query), engine)"
   ]
  },
  {
   "cell_type": "markdown",
   "id": "b5a55f9b",
   "metadata": {},
   "source": [
    "### Removing duplicates"
   ]
  },
  {
   "cell_type": "code",
   "execution_count": 27,
   "id": "e33893ee",
   "metadata": {},
   "outputs": [],
   "source": [
    "online_transaction_cleaned = online_transaction.drop_duplicates(keep='first')"
   ]
  },
  {
   "cell_type": "code",
   "execution_count": 28,
   "id": "ae87dc5d",
   "metadata": {},
   "outputs": [
    {
     "data": {
      "text/plain": [
       "0"
      ]
     },
     "execution_count": 28,
     "metadata": {},
     "output_type": "execute_result"
    }
   ],
   "source": [
    "online_transaction_cleaned.duplicated().sum()"
   ]
  },
  {
   "cell_type": "markdown",
   "id": "f5b79d71",
   "metadata": {},
   "source": [
    "### Fixing the invoice_date field from object to datetime"
   ]
  },
  {
   "cell_type": "code",
   "execution_count": 31,
   "id": "b186af0d",
   "metadata": {},
   "outputs": [],
   "source": [
    "online_transaction_cleaned.invoice_date = pd.to_datetime(online_transaction_cleaned.invoice_date, \n",
    "                                                   format = \"%Y-%m-%d\")"
   ]
  },
  {
   "cell_type": "code",
   "execution_count": 32,
   "id": "6a6ddfa9",
   "metadata": {},
   "outputs": [
    {
     "name": "stdout",
     "output_type": "stream",
     "text": [
      "<class 'pandas.core.frame.DataFrame'>\n",
      "Int64Index: 399867 entries, 0 to 405134\n",
      "Data columns (total 8 columns):\n",
      " #   Column        Non-Null Count   Dtype         \n",
      "---  ------        --------------   -----         \n",
      " 0   invoice       399867 non-null  object        \n",
      " 1   stock_code    399867 non-null  object        \n",
      " 2   quantity      399867 non-null  int64         \n",
      " 3   invoice_date  399867 non-null  datetime64[ns]\n",
      " 4   price         399867 non-null  float64       \n",
      " 5   customer_id   399867 non-null  object        \n",
      " 6   country       399867 non-null  object        \n",
      " 7   description   399867 non-null  object        \n",
      "dtypes: datetime64[ns](1), float64(1), int64(1), object(5)\n",
      "memory usage: 27.5+ MB\n"
     ]
    }
   ],
   "source": [
    "online_transaction_cleaned.info()"
   ]
  },
  {
   "cell_type": "code",
   "execution_count": 35,
   "id": "37dd4731",
   "metadata": {},
   "outputs": [],
   "source": [
    "# close the connection\n",
    "\n",
    "engine.dispose()"
   ]
  }
 ],
 "metadata": {
  "kernelspec": {
   "display_name": "Python 3 (ipykernel)",
   "language": "python",
   "name": "python3"
  },
  "language_info": {
   "codemirror_mode": {
    "name": "ipython",
    "version": 3
   },
   "file_extension": ".py",
   "mimetype": "text/x-python",
   "name": "python",
   "nbconvert_exporter": "python",
   "pygments_lexer": "ipython3",
   "version": "3.11.1"
  }
 },
 "nbformat": 4,
 "nbformat_minor": 5
}
