{
 "cells": [
  {
   "cell_type": "code",
   "execution_count": 1,
   "id": "55fd62cd",
   "metadata": {},
   "outputs": [],
   "source": [
    "# import libraries\n",
    "\n",
    "import os\n",
    "import numpy as np\n",
    "import pandas as pd\n",
    "from sqlalchemy import create_engine\n",
    "from sqlalchemy import text\n",
    "from dotenv import load_dotenv\n",
    "\n",
    "import datetime\n",
    "import matplotlib.pyplot as plt\n",
    "import seaborn as sns\n",
    "\n",
    "import warnings\n",
    "warnings.filterwarnings(\"ignore\")"
   ]
  },
  {
   "cell_type": "code",
   "execution_count": 2,
   "id": "f6553952",
   "metadata": {},
   "outputs": [],
   "source": [
    "# connect to Redshift\n",
    "\n",
    "load_dotenv()\n",
    "dbname = os.getenv(\"dbname\")\n",
    "host = os.getenv(\"host\")\n",
    "port = os.getenv(\"port\")\n",
    "user = os.getenv(\"user\")\n",
    "password = os.getenv(\"password\")\n",
    "\n",
    "engine = create_engine(f\"postgresql+psycopg2://{user}:{password}@{host}:{port}/{dbname}\")"
   ]
  },
  {
   "cell_type": "code",
   "execution_count": 3,
   "id": "901ae239",
   "metadata": {},
   "outputs": [],
   "source": [
    "# Use the read_sql() function to query this table and store the output as a variable\n",
    "\n",
    "query = \"\"\"\n",
    "SELECT ot.*,\n",
    "        case when sd.description = '?' or sd.description is null then 'Unknown' else sd.description end as description\n",
    "FROM bootcamp1.online_transactions ot\n",
    "LEFT JOIN bootcamp1.stock_description sd ON ot.stock_code = sd.stock_code\n",
    "WHERE ot.customer_id <> '' \n",
    "AND ot.stock_code NOT IN ('BANK CHARGES', 'POSTAGE', 'D', 'M', 'CRUK')\n",
    "AND ot.quantity > 0 \"\"\"\n",
    "\n",
    "online_transaction = pd.read_sql(text(query), engine)"
   ]
  },
  {
   "cell_type": "code",
   "execution_count": 4,
   "id": "f5e9c011",
   "metadata": {},
   "outputs": [],
   "source": [
    "# Remove duplicates and fix invoice_date type\n",
    "\n",
    "online_transaction_cleaned = online_transaction.drop_duplicates(keep='first')\n",
    "online_transaction_cleaned.invoice_date = pd.to_datetime(online_transaction_cleaned.invoice_date, \n",
    "                                                   format = \"%Y-%m-%d\")"
   ]
  },
  {
   "cell_type": "markdown",
   "id": "a2811b77",
   "metadata": {},
   "source": [
    "### Top ten most popular geographical locations"
   ]
  },
  {
   "cell_type": "code",
   "execution_count": 5,
   "id": "17fb51a2",
   "metadata": {},
   "outputs": [
    {
     "data": {
      "text/plain": [
       "country\n",
       "United Kingdom    3917\n",
       "Germany             94\n",
       "France              87\n",
       "Spain               30\n",
       "Belgium             25\n",
       "Switzerland         21\n",
       "Portugal            19\n",
       "Italy               14\n",
       "Finland             12\n",
       "Austria             11\n",
       "Name: customer_id, dtype: int64"
      ]
     },
     "execution_count": 5,
     "metadata": {},
     "output_type": "execute_result"
    }
   ],
   "source": [
    "online_transaction_cleaned.groupby(\"country\").customer_id.nunique().sort_values(ascending=False).head(10)"
   ]
  },
  {
   "cell_type": "markdown",
   "id": "b4c47c5f",
   "metadata": {},
   "source": [
    "### Country with the most spend"
   ]
  },
  {
   "cell_type": "code",
   "execution_count": 6,
   "id": "85f5f3c5",
   "metadata": {},
   "outputs": [
    {
     "data": {
      "text/html": [
       "<div>\n",
       "<style scoped>\n",
       "    .dataframe tbody tr th:only-of-type {\n",
       "        vertical-align: middle;\n",
       "    }\n",
       "\n",
       "    .dataframe tbody tr th {\n",
       "        vertical-align: top;\n",
       "    }\n",
       "\n",
       "    .dataframe thead th {\n",
       "        text-align: right;\n",
       "    }\n",
       "</style>\n",
       "<table border=\"1\" class=\"dataframe\">\n",
       "  <thead>\n",
       "    <tr style=\"text-align: right;\">\n",
       "      <th></th>\n",
       "      <th>invoice</th>\n",
       "      <th>stock_code</th>\n",
       "      <th>quantity</th>\n",
       "      <th>invoice_date</th>\n",
       "      <th>price</th>\n",
       "      <th>customer_id</th>\n",
       "      <th>country</th>\n",
       "      <th>description</th>\n",
       "      <th>total_price</th>\n",
       "    </tr>\n",
       "  </thead>\n",
       "  <tbody>\n",
       "    <tr>\n",
       "      <th>0</th>\n",
       "      <td>536365</td>\n",
       "      <td>85123A</td>\n",
       "      <td>6</td>\n",
       "      <td>2010-12-01 08:26:00</td>\n",
       "      <td>2.55</td>\n",
       "      <td>u1785</td>\n",
       "      <td>United Kingdom</td>\n",
       "      <td>CREAM HANGING HEART T-LIGHT HOLDER</td>\n",
       "      <td>15.30</td>\n",
       "    </tr>\n",
       "    <tr>\n",
       "      <th>1</th>\n",
       "      <td>536365</td>\n",
       "      <td>84029E</td>\n",
       "      <td>6</td>\n",
       "      <td>2010-12-01 08:26:00</td>\n",
       "      <td>3.39</td>\n",
       "      <td>u1785</td>\n",
       "      <td>United Kingdom</td>\n",
       "      <td>RED WOOLLY HOTTIE WHITE HEART.</td>\n",
       "      <td>20.34</td>\n",
       "    </tr>\n",
       "    <tr>\n",
       "      <th>2</th>\n",
       "      <td>536366</td>\n",
       "      <td>22632</td>\n",
       "      <td>6</td>\n",
       "      <td>2010-12-01 08:28:00</td>\n",
       "      <td>1.85</td>\n",
       "      <td>u1785</td>\n",
       "      <td>United Kingdom</td>\n",
       "      <td>HAND WARMER RED POLKA DOT</td>\n",
       "      <td>11.10</td>\n",
       "    </tr>\n",
       "    <tr>\n",
       "      <th>3</th>\n",
       "      <td>536368</td>\n",
       "      <td>22914</td>\n",
       "      <td>3</td>\n",
       "      <td>2010-12-01 08:34:00</td>\n",
       "      <td>4.95</td>\n",
       "      <td>u13047</td>\n",
       "      <td>United Kingdom</td>\n",
       "      <td>BLUE COAT RACK PARIS FASHION</td>\n",
       "      <td>14.85</td>\n",
       "    </tr>\n",
       "    <tr>\n",
       "      <th>4</th>\n",
       "      <td>536367</td>\n",
       "      <td>22749</td>\n",
       "      <td>8</td>\n",
       "      <td>2010-12-01 08:34:00</td>\n",
       "      <td>3.75</td>\n",
       "      <td>u13047</td>\n",
       "      <td>United Kingdom</td>\n",
       "      <td>FELTCRAFT PRINCESS CHARLOTTE DOLL</td>\n",
       "      <td>30.00</td>\n",
       "    </tr>\n",
       "  </tbody>\n",
       "</table>\n",
       "</div>"
      ],
      "text/plain": [
       "  invoice stock_code  quantity        invoice_date  price customer_id  \\\n",
       "0  536365     85123A         6 2010-12-01 08:26:00   2.55       u1785   \n",
       "1  536365     84029E         6 2010-12-01 08:26:00   3.39       u1785   \n",
       "2  536366      22632         6 2010-12-01 08:28:00   1.85       u1785   \n",
       "3  536368      22914         3 2010-12-01 08:34:00   4.95      u13047   \n",
       "4  536367      22749         8 2010-12-01 08:34:00   3.75      u13047   \n",
       "\n",
       "          country                         description  total_price  \n",
       "0  United Kingdom  CREAM HANGING HEART T-LIGHT HOLDER        15.30  \n",
       "1  United Kingdom      RED WOOLLY HOTTIE WHITE HEART.        20.34  \n",
       "2  United Kingdom           HAND WARMER RED POLKA DOT        11.10  \n",
       "3  United Kingdom        BLUE COAT RACK PARIS FASHION        14.85  \n",
       "4  United Kingdom   FELTCRAFT PRINCESS CHARLOTTE DOLL        30.00  "
      ]
     },
     "execution_count": 6,
     "metadata": {},
     "output_type": "execute_result"
    }
   ],
   "source": [
    "online_transaction_cleaned[\"total_price\"] = online_transaction_cleaned.price*online_transaction_cleaned.quantity\n",
    "online_transaction_cleaned.head()"
   ]
  },
  {
   "cell_type": "code",
   "execution_count": 7,
   "id": "6a3af658",
   "metadata": {},
   "outputs": [
    {
     "data": {
      "text/plain": [
       "'United Kingdom'"
      ]
     },
     "execution_count": 7,
     "metadata": {},
     "output_type": "execute_result"
    }
   ],
   "source": [
    "online_transaction_cleaned.groupby(by=\"country\").total_price.sum().sort_values(ascending=False).index[0]"
   ]
  },
  {
   "cell_type": "markdown",
   "id": "2ffda18d",
   "metadata": {},
   "source": [
    "### Invoices across month"
   ]
  },
  {
   "cell_type": "code",
   "execution_count": 8,
   "id": "eddae631",
   "metadata": {},
   "outputs": [
    {
     "data": {
      "text/html": [
       "<div>\n",
       "<style scoped>\n",
       "    .dataframe tbody tr th:only-of-type {\n",
       "        vertical-align: middle;\n",
       "    }\n",
       "\n",
       "    .dataframe tbody tr th {\n",
       "        vertical-align: top;\n",
       "    }\n",
       "\n",
       "    .dataframe thead th {\n",
       "        text-align: right;\n",
       "    }\n",
       "</style>\n",
       "<table border=\"1\" class=\"dataframe\">\n",
       "  <thead>\n",
       "    <tr style=\"text-align: right;\">\n",
       "      <th></th>\n",
       "      <th>invoice</th>\n",
       "      <th>stock_code</th>\n",
       "      <th>quantity</th>\n",
       "      <th>invoice_date</th>\n",
       "      <th>price</th>\n",
       "      <th>customer_id</th>\n",
       "      <th>country</th>\n",
       "      <th>description</th>\n",
       "      <th>total_price</th>\n",
       "      <th>year</th>\n",
       "      <th>month</th>\n",
       "    </tr>\n",
       "  </thead>\n",
       "  <tbody>\n",
       "    <tr>\n",
       "      <th>0</th>\n",
       "      <td>536365</td>\n",
       "      <td>85123A</td>\n",
       "      <td>6</td>\n",
       "      <td>2010-12-01 08:26:00</td>\n",
       "      <td>2.55</td>\n",
       "      <td>u1785</td>\n",
       "      <td>United Kingdom</td>\n",
       "      <td>CREAM HANGING HEART T-LIGHT HOLDER</td>\n",
       "      <td>15.30</td>\n",
       "      <td>2010</td>\n",
       "      <td>12</td>\n",
       "    </tr>\n",
       "    <tr>\n",
       "      <th>1</th>\n",
       "      <td>536365</td>\n",
       "      <td>84029E</td>\n",
       "      <td>6</td>\n",
       "      <td>2010-12-01 08:26:00</td>\n",
       "      <td>3.39</td>\n",
       "      <td>u1785</td>\n",
       "      <td>United Kingdom</td>\n",
       "      <td>RED WOOLLY HOTTIE WHITE HEART.</td>\n",
       "      <td>20.34</td>\n",
       "      <td>2010</td>\n",
       "      <td>12</td>\n",
       "    </tr>\n",
       "    <tr>\n",
       "      <th>2</th>\n",
       "      <td>536366</td>\n",
       "      <td>22632</td>\n",
       "      <td>6</td>\n",
       "      <td>2010-12-01 08:28:00</td>\n",
       "      <td>1.85</td>\n",
       "      <td>u1785</td>\n",
       "      <td>United Kingdom</td>\n",
       "      <td>HAND WARMER RED POLKA DOT</td>\n",
       "      <td>11.10</td>\n",
       "      <td>2010</td>\n",
       "      <td>12</td>\n",
       "    </tr>\n",
       "    <tr>\n",
       "      <th>3</th>\n",
       "      <td>536368</td>\n",
       "      <td>22914</td>\n",
       "      <td>3</td>\n",
       "      <td>2010-12-01 08:34:00</td>\n",
       "      <td>4.95</td>\n",
       "      <td>u13047</td>\n",
       "      <td>United Kingdom</td>\n",
       "      <td>BLUE COAT RACK PARIS FASHION</td>\n",
       "      <td>14.85</td>\n",
       "      <td>2010</td>\n",
       "      <td>12</td>\n",
       "    </tr>\n",
       "    <tr>\n",
       "      <th>4</th>\n",
       "      <td>536367</td>\n",
       "      <td>22749</td>\n",
       "      <td>8</td>\n",
       "      <td>2010-12-01 08:34:00</td>\n",
       "      <td>3.75</td>\n",
       "      <td>u13047</td>\n",
       "      <td>United Kingdom</td>\n",
       "      <td>FELTCRAFT PRINCESS CHARLOTTE DOLL</td>\n",
       "      <td>30.00</td>\n",
       "      <td>2010</td>\n",
       "      <td>12</td>\n",
       "    </tr>\n",
       "  </tbody>\n",
       "</table>\n",
       "</div>"
      ],
      "text/plain": [
       "  invoice stock_code  quantity        invoice_date  price customer_id  \\\n",
       "0  536365     85123A         6 2010-12-01 08:26:00   2.55       u1785   \n",
       "1  536365     84029E         6 2010-12-01 08:26:00   3.39       u1785   \n",
       "2  536366      22632         6 2010-12-01 08:28:00   1.85       u1785   \n",
       "3  536368      22914         3 2010-12-01 08:34:00   4.95      u13047   \n",
       "4  536367      22749         8 2010-12-01 08:34:00   3.75      u13047   \n",
       "\n",
       "          country                         description  total_price  year  \\\n",
       "0  United Kingdom  CREAM HANGING HEART T-LIGHT HOLDER        15.30  2010   \n",
       "1  United Kingdom      RED WOOLLY HOTTIE WHITE HEART.        20.34  2010   \n",
       "2  United Kingdom           HAND WARMER RED POLKA DOT        11.10  2010   \n",
       "3  United Kingdom        BLUE COAT RACK PARIS FASHION        14.85  2010   \n",
       "4  United Kingdom   FELTCRAFT PRINCESS CHARLOTTE DOLL        30.00  2010   \n",
       "\n",
       "   month  \n",
       "0     12  \n",
       "1     12  \n",
       "2     12  \n",
       "3     12  \n",
       "4     12  "
      ]
     },
     "execution_count": 8,
     "metadata": {},
     "output_type": "execute_result"
    }
   ],
   "source": [
    "online_transaction_cleaned[\"year\"] = online_transaction_cleaned[\"invoice_date\"].dt.year\n",
    "online_transaction_cleaned[\"month\"] = online_transaction_cleaned[\"invoice_date\"].dt.month\n",
    "online_transaction_cleaned.head()"
   ]
  },
  {
   "cell_type": "code",
   "execution_count": 9,
   "id": "6ddc5046",
   "metadata": {},
   "outputs": [
    {
     "data": {
      "text/plain": [
       "12    26098\n",
       "Name: month, dtype: int64"
      ]
     },
     "execution_count": 9,
     "metadata": {},
     "output_type": "execute_result"
    }
   ],
   "source": [
    "year_2010 = online_transaction_cleaned.loc[online_transaction_cleaned[\"year\"] == 2010]\n",
    "year_2010.month.value_counts()"
   ]
  },
  {
   "cell_type": "code",
   "execution_count": 10,
   "id": "6ac1abbb",
   "metadata": {},
   "outputs": [
    {
     "data": {
      "text/plain": [
       "11    64277\n",
       "10    49696\n",
       "9     40439\n",
       "5     28724\n",
       "6     27507\n",
       "8     27368\n",
       "3     27301\n",
       "7     27123\n",
       "4     22758\n",
       "1     21264\n",
       "2     19993\n",
       "12    17319\n",
       "Name: month, dtype: int64"
      ]
     },
     "execution_count": 10,
     "metadata": {},
     "output_type": "execute_result"
    }
   ],
   "source": [
    "year_2011 = online_transaction_cleaned.loc[online_transaction_cleaned[\"year\"] == 2011]\n",
    "year_2011.month.value_counts()"
   ]
  },
  {
   "cell_type": "code",
   "execution_count": 11,
   "id": "c6338c2d",
   "metadata": {},
   "outputs": [
    {
     "data": {
      "image/png": "[encoded data removed]",
      "text/plain": [
       "<Figure size 640x480 with 1 Axes>"
      ]
     },
     "metadata": {},
     "output_type": "display_data"
    }
   ],
   "source": [
    "monthly_invoice_distribution = year_2011.groupby(by=\"month\").invoice.nunique()\n",
    "\n",
    "ax = sns.lineplot(x=monthly_invoice_distribution.index, y=monthly_invoice_distribution.values)\n",
    "\n",
    "ax.set_title('Monthly Invoice Distribution')\n",
    "ax.set_xlabel('Month')\n",
    "ax.set_ylabel(\"Number of Invoice\");"
   ]
  },
  {
   "cell_type": "markdown",
   "id": "36cdc981",
   "metadata": {},
   "source": [
    "### Week day of the highest number of transaction"
   ]
  },
  {
   "cell_type": "code",
   "execution_count": 12,
   "id": "a1e94aa3",
   "metadata": {},
   "outputs": [
    {
     "data": {
      "text/html": [
       "<div>\n",
       "<style scoped>\n",
       "    .dataframe tbody tr th:only-of-type {\n",
       "        vertical-align: middle;\n",
       "    }\n",
       "\n",
       "    .dataframe tbody tr th {\n",
       "        vertical-align: top;\n",
       "    }\n",
       "\n",
       "    .dataframe thead th {\n",
       "        text-align: right;\n",
       "    }\n",
       "</style>\n",
       "<table border=\"1\" class=\"dataframe\">\n",
       "  <thead>\n",
       "    <tr style=\"text-align: right;\">\n",
       "      <th></th>\n",
       "      <th>invoice</th>\n",
       "      <th>stock_code</th>\n",
       "      <th>quantity</th>\n",
       "      <th>invoice_date</th>\n",
       "      <th>price</th>\n",
       "      <th>customer_id</th>\n",
       "      <th>country</th>\n",
       "      <th>description</th>\n",
       "      <th>total_price</th>\n",
       "      <th>year</th>\n",
       "      <th>month</th>\n",
       "      <th>week_day</th>\n",
       "    </tr>\n",
       "  </thead>\n",
       "  <tbody>\n",
       "    <tr>\n",
       "      <th>20085</th>\n",
       "      <td>539993</td>\n",
       "      <td>22379</td>\n",
       "      <td>5</td>\n",
       "      <td>2011-01-04 10:00:00</td>\n",
       "      <td>2.10</td>\n",
       "      <td>u13313</td>\n",
       "      <td>United Kingdom</td>\n",
       "      <td>RECYCLING BAG RETROSPOT</td>\n",
       "      <td>10.50</td>\n",
       "      <td>2011</td>\n",
       "      <td>1</td>\n",
       "      <td>1</td>\n",
       "    </tr>\n",
       "    <tr>\n",
       "      <th>20086</th>\n",
       "      <td>539993</td>\n",
       "      <td>22961</td>\n",
       "      <td>12</td>\n",
       "      <td>2011-01-04 10:00:00</td>\n",
       "      <td>1.45</td>\n",
       "      <td>u13313</td>\n",
       "      <td>United Kingdom</td>\n",
       "      <td>JAM MAKING SET PRINTED</td>\n",
       "      <td>17.40</td>\n",
       "      <td>2011</td>\n",
       "      <td>1</td>\n",
       "      <td>1</td>\n",
       "    </tr>\n",
       "    <tr>\n",
       "      <th>20087</th>\n",
       "      <td>539993</td>\n",
       "      <td>22303</td>\n",
       "      <td>6</td>\n",
       "      <td>2011-01-04 10:00:00</td>\n",
       "      <td>2.55</td>\n",
       "      <td>u13313</td>\n",
       "      <td>United Kingdom</td>\n",
       "      <td>COFFEE MUG APPLES DESIGN</td>\n",
       "      <td>15.30</td>\n",
       "      <td>2011</td>\n",
       "      <td>1</td>\n",
       "      <td>1</td>\n",
       "    </tr>\n",
       "    <tr>\n",
       "      <th>20088</th>\n",
       "      <td>539993</td>\n",
       "      <td>22458</td>\n",
       "      <td>8</td>\n",
       "      <td>2011-01-04 10:00:00</td>\n",
       "      <td>2.55</td>\n",
       "      <td>u13313</td>\n",
       "      <td>United Kingdom</td>\n",
       "      <td>CAST IRON HOOK GARDEN FORK</td>\n",
       "      <td>20.40</td>\n",
       "      <td>2011</td>\n",
       "      <td>1</td>\n",
       "      <td>1</td>\n",
       "    </tr>\n",
       "    <tr>\n",
       "      <th>20089</th>\n",
       "      <td>540001</td>\n",
       "      <td>22151</td>\n",
       "      <td>48</td>\n",
       "      <td>2011-01-04 10:22:00</td>\n",
       "      <td>0.42</td>\n",
       "      <td>u18097</td>\n",
       "      <td>United Kingdom</td>\n",
       "      <td>PLACE SETTING WHITE HEART</td>\n",
       "      <td>20.16</td>\n",
       "      <td>2011</td>\n",
       "      <td>1</td>\n",
       "      <td>1</td>\n",
       "    </tr>\n",
       "  </tbody>\n",
       "</table>\n",
       "</div>"
      ],
      "text/plain": [
       "      invoice stock_code  quantity        invoice_date  price customer_id  \\\n",
       "20085  539993      22379         5 2011-01-04 10:00:00   2.10      u13313   \n",
       "20086  539993      22961        12 2011-01-04 10:00:00   1.45      u13313   \n",
       "20087  539993      22303         6 2011-01-04 10:00:00   2.55      u13313   \n",
       "20088  539993      22458         8 2011-01-04 10:00:00   2.55      u13313   \n",
       "20089  540001      22151        48 2011-01-04 10:22:00   0.42      u18097   \n",
       "\n",
       "              country                 description  total_price  year  month  \\\n",
       "20085  United Kingdom    RECYCLING BAG RETROSPOT         10.50  2011      1   \n",
       "20086  United Kingdom      JAM MAKING SET PRINTED        17.40  2011      1   \n",
       "20087  United Kingdom    COFFEE MUG APPLES DESIGN        15.30  2011      1   \n",
       "20088  United Kingdom  CAST IRON HOOK GARDEN FORK        20.40  2011      1   \n",
       "20089  United Kingdom   PLACE SETTING WHITE HEART        20.16  2011      1   \n",
       "\n",
       "       week_day  \n",
       "20085         1  \n",
       "20086         1  \n",
       "20087         1  \n",
       "20088         1  \n",
       "20089         1  "
      ]
     },
     "execution_count": 12,
     "metadata": {},
     "output_type": "execute_result"
    }
   ],
   "source": [
    "year_2011[\"week_day\"] = year_2011[\"invoice_date\"].dt.weekday\n",
    "year_2011.head()"
   ]
  },
  {
   "cell_type": "code",
   "execution_count": 13,
   "id": "4dc170a0",
   "metadata": {},
   "outputs": [
    {
     "data": {
      "image/png": "[encoded data removed]",
      "text/plain": [
       "<Figure size 640x480 with 1 Axes>"
      ]
     },
     "metadata": {},
     "output_type": "display_data"
    }
   ],
   "source": [
    "week_day_invoice_count = year_2011.groupby(by=\"week_day\").invoice.nunique().rename(lambda x: x+1)\n",
    "\n",
    "ax = sns.barplot(x=week_day_invoice_count.index, y=week_day_invoice_count.values, palette=\"colorblind\")\n",
    "ax.set_title('Daily Number of Invoice')\n",
    "ax.set_xlabel('Day')\n",
    "ax.set_ylabel(\"Number of Invoice\");"
   ]
  },
  {
   "cell_type": "markdown",
   "id": "78da6d91",
   "metadata": {},
   "source": [
    "### Identify customers that have spent more than the average user"
   ]
  },
  {
   "cell_type": "code",
   "execution_count": 14,
   "id": "791bd103",
   "metadata": {},
   "outputs": [],
   "source": [
    "average_price_per_user = online_transaction_cleaned.groupby(\"customer_id\").total_price.sum().mean()"
   ]
  },
  {
   "cell_type": "code",
   "execution_count": 15,
   "id": "58f92ab3",
   "metadata": {},
   "outputs": [],
   "source": [
    "s = (online_transaction_cleaned.groupby(\"customer_id\").total_price.sum() > \n",
    "    average_price_per_user)\n",
    "user_id_more_than_average = list(s[s].index)"
   ]
  },
  {
   "cell_type": "code",
   "execution_count": 16,
   "id": "974b9f17",
   "metadata": {},
   "outputs": [
    {
     "data": {
      "text/html": [
       "<div>\n",
       "<style scoped>\n",
       "    .dataframe tbody tr th:only-of-type {\n",
       "        vertical-align: middle;\n",
       "    }\n",
       "\n",
       "    .dataframe tbody tr th {\n",
       "        vertical-align: top;\n",
       "    }\n",
       "\n",
       "    .dataframe thead th {\n",
       "        text-align: right;\n",
       "    }\n",
       "</style>\n",
       "<table border=\"1\" class=\"dataframe\">\n",
       "  <thead>\n",
       "    <tr style=\"text-align: right;\">\n",
       "      <th></th>\n",
       "      <th>invoice</th>\n",
       "      <th>stock_code</th>\n",
       "      <th>quantity</th>\n",
       "      <th>invoice_date</th>\n",
       "      <th>price</th>\n",
       "      <th>customer_id</th>\n",
       "      <th>country</th>\n",
       "      <th>description</th>\n",
       "      <th>total_price</th>\n",
       "      <th>year</th>\n",
       "      <th>month</th>\n",
       "    </tr>\n",
       "  </thead>\n",
       "  <tbody>\n",
       "    <tr>\n",
       "      <th>0</th>\n",
       "      <td>536365</td>\n",
       "      <td>85123A</td>\n",
       "      <td>6</td>\n",
       "      <td>2010-12-01 08:26:00</td>\n",
       "      <td>2.55</td>\n",
       "      <td>u1785</td>\n",
       "      <td>United Kingdom</td>\n",
       "      <td>CREAM HANGING HEART T-LIGHT HOLDER</td>\n",
       "      <td>15.30</td>\n",
       "      <td>2010</td>\n",
       "      <td>12</td>\n",
       "    </tr>\n",
       "    <tr>\n",
       "      <th>1</th>\n",
       "      <td>536365</td>\n",
       "      <td>84029E</td>\n",
       "      <td>6</td>\n",
       "      <td>2010-12-01 08:26:00</td>\n",
       "      <td>3.39</td>\n",
       "      <td>u1785</td>\n",
       "      <td>United Kingdom</td>\n",
       "      <td>RED WOOLLY HOTTIE WHITE HEART.</td>\n",
       "      <td>20.34</td>\n",
       "      <td>2010</td>\n",
       "      <td>12</td>\n",
       "    </tr>\n",
       "    <tr>\n",
       "      <th>2</th>\n",
       "      <td>536366</td>\n",
       "      <td>22632</td>\n",
       "      <td>6</td>\n",
       "      <td>2010-12-01 08:28:00</td>\n",
       "      <td>1.85</td>\n",
       "      <td>u1785</td>\n",
       "      <td>United Kingdom</td>\n",
       "      <td>HAND WARMER RED POLKA DOT</td>\n",
       "      <td>11.10</td>\n",
       "      <td>2010</td>\n",
       "      <td>12</td>\n",
       "    </tr>\n",
       "    <tr>\n",
       "      <th>3</th>\n",
       "      <td>536368</td>\n",
       "      <td>22914</td>\n",
       "      <td>3</td>\n",
       "      <td>2010-12-01 08:34:00</td>\n",
       "      <td>4.95</td>\n",
       "      <td>u13047</td>\n",
       "      <td>United Kingdom</td>\n",
       "      <td>BLUE COAT RACK PARIS FASHION</td>\n",
       "      <td>14.85</td>\n",
       "      <td>2010</td>\n",
       "      <td>12</td>\n",
       "    </tr>\n",
       "    <tr>\n",
       "      <th>4</th>\n",
       "      <td>536367</td>\n",
       "      <td>22749</td>\n",
       "      <td>8</td>\n",
       "      <td>2010-12-01 08:34:00</td>\n",
       "      <td>3.75</td>\n",
       "      <td>u13047</td>\n",
       "      <td>United Kingdom</td>\n",
       "      <td>FELTCRAFT PRINCESS CHARLOTTE DOLL</td>\n",
       "      <td>30.00</td>\n",
       "      <td>2010</td>\n",
       "      <td>12</td>\n",
       "    </tr>\n",
       "    <tr>\n",
       "      <th>...</th>\n",
       "      <td>...</td>\n",
       "      <td>...</td>\n",
       "      <td>...</td>\n",
       "      <td>...</td>\n",
       "      <td>...</td>\n",
       "      <td>...</td>\n",
       "      <td>...</td>\n",
       "      <td>...</td>\n",
       "      <td>...</td>\n",
       "      <td>...</td>\n",
       "      <td>...</td>\n",
       "    </tr>\n",
       "    <tr>\n",
       "      <th>405126</th>\n",
       "      <td>581585</td>\n",
       "      <td>84879</td>\n",
       "      <td>16</td>\n",
       "      <td>2011-12-09 12:31:00</td>\n",
       "      <td>1.69</td>\n",
       "      <td>u15804</td>\n",
       "      <td>United Kingdom</td>\n",
       "      <td>ASSORTED COLOUR BIRD ORNAMENT</td>\n",
       "      <td>27.04</td>\n",
       "      <td>2011</td>\n",
       "      <td>12</td>\n",
       "    </tr>\n",
       "    <tr>\n",
       "      <th>405127</th>\n",
       "      <td>581585</td>\n",
       "      <td>22726</td>\n",
       "      <td>8</td>\n",
       "      <td>2011-12-09 12:31:00</td>\n",
       "      <td>3.75</td>\n",
       "      <td>u15804</td>\n",
       "      <td>United Kingdom</td>\n",
       "      <td>ALARM CLOCK BAKELIKE GREEN</td>\n",
       "      <td>30.00</td>\n",
       "      <td>2011</td>\n",
       "      <td>12</td>\n",
       "    </tr>\n",
       "    <tr>\n",
       "      <th>405128</th>\n",
       "      <td>581585</td>\n",
       "      <td>84692</td>\n",
       "      <td>25</td>\n",
       "      <td>2011-12-09 12:31:00</td>\n",
       "      <td>0.42</td>\n",
       "      <td>u15804</td>\n",
       "      <td>United Kingdom</td>\n",
       "      <td>BOX OF 24 COCKTAIL PARASOLS</td>\n",
       "      <td>10.50</td>\n",
       "      <td>2011</td>\n",
       "      <td>12</td>\n",
       "    </tr>\n",
       "    <tr>\n",
       "      <th>405129</th>\n",
       "      <td>581585</td>\n",
       "      <td>23328</td>\n",
       "      <td>4</td>\n",
       "      <td>2011-12-09 12:31:00</td>\n",
       "      <td>3.75</td>\n",
       "      <td>u15804</td>\n",
       "      <td>United Kingdom</td>\n",
       "      <td>SET 6 SCHOOL MILK BOTTLES IN CRATE</td>\n",
       "      <td>15.00</td>\n",
       "      <td>2011</td>\n",
       "      <td>12</td>\n",
       "    </tr>\n",
       "    <tr>\n",
       "      <th>405130</th>\n",
       "      <td>581586</td>\n",
       "      <td>23275</td>\n",
       "      <td>24</td>\n",
       "      <td>2011-12-09 12:49:00</td>\n",
       "      <td>1.25</td>\n",
       "      <td>u13113</td>\n",
       "      <td>United Kingdom</td>\n",
       "      <td>SET OF 3 HANGING OWLS OLLIE BEAK</td>\n",
       "      <td>30.00</td>\n",
       "      <td>2011</td>\n",
       "      <td>12</td>\n",
       "    </tr>\n",
       "  </tbody>\n",
       "</table>\n",
       "<p>232057 rows × 11 columns</p>\n",
       "</div>"
      ],
      "text/plain": [
       "       invoice stock_code  quantity        invoice_date  price customer_id  \\\n",
       "0       536365     85123A         6 2010-12-01 08:26:00   2.55       u1785   \n",
       "1       536365     84029E         6 2010-12-01 08:26:00   3.39       u1785   \n",
       "2       536366      22632         6 2010-12-01 08:28:00   1.85       u1785   \n",
       "3       536368      22914         3 2010-12-01 08:34:00   4.95      u13047   \n",
       "4       536367      22749         8 2010-12-01 08:34:00   3.75      u13047   \n",
       "...        ...        ...       ...                 ...    ...         ...   \n",
       "405126  581585      84879        16 2011-12-09 12:31:00   1.69      u15804   \n",
       "405127  581585      22726         8 2011-12-09 12:31:00   3.75      u15804   \n",
       "405128  581585      84692        25 2011-12-09 12:31:00   0.42      u15804   \n",
       "405129  581585      23328         4 2011-12-09 12:31:00   3.75      u15804   \n",
       "405130  581586      23275        24 2011-12-09 12:49:00   1.25      u13113   \n",
       "\n",
       "               country                         description  total_price  year  \\\n",
       "0       United Kingdom  CREAM HANGING HEART T-LIGHT HOLDER        15.30  2010   \n",
       "1       United Kingdom      RED WOOLLY HOTTIE WHITE HEART.        20.34  2010   \n",
       "2       United Kingdom           HAND WARMER RED POLKA DOT        11.10  2010   \n",
       "3       United Kingdom        BLUE COAT RACK PARIS FASHION        14.85  2010   \n",
       "4       United Kingdom   FELTCRAFT PRINCESS CHARLOTTE DOLL        30.00  2010   \n",
       "...                ...                                 ...          ...   ...   \n",
       "405126  United Kingdom       ASSORTED COLOUR BIRD ORNAMENT        27.04  2011   \n",
       "405127  United Kingdom          ALARM CLOCK BAKELIKE GREEN        30.00  2011   \n",
       "405128  United Kingdom         BOX OF 24 COCKTAIL PARASOLS        10.50  2011   \n",
       "405129  United Kingdom  SET 6 SCHOOL MILK BOTTLES IN CRATE        15.00  2011   \n",
       "405130  United Kingdom    SET OF 3 HANGING OWLS OLLIE BEAK        30.00  2011   \n",
       "\n",
       "        month  \n",
       "0          12  \n",
       "1          12  \n",
       "2          12  \n",
       "3          12  \n",
       "4          12  \n",
       "...       ...  \n",
       "405126     12  \n",
       "405127     12  \n",
       "405128     12  \n",
       "405129     12  \n",
       "405130     12  \n",
       "\n",
       "[232057 rows x 11 columns]"
      ]
     },
     "execution_count": 16,
     "metadata": {},
     "output_type": "execute_result"
    }
   ],
   "source": [
    "online_transaction_cleaned[online_transaction_cleaned.customer_id.isin(user_id_more_than_average)]"
   ]
  },
  {
   "cell_type": "markdown",
   "id": "07301694",
   "metadata": {},
   "source": [
    "### Top 10 customer with the most purchase"
   ]
  },
  {
   "cell_type": "code",
   "execution_count": 17,
   "id": "ab691552",
   "metadata": {},
   "outputs": [
    {
     "data": {
      "text/plain": [
       "customer_id\n",
       "u12748    206\n",
       "u14911    199\n",
       "u17841    124\n",
       "u13089     97\n",
       "u15311     91\n",
       "u14606     91\n",
       "u12971     86\n",
       "u14646     74\n",
       "u16029     63\n",
       "u13408     62\n",
       "Name: invoice, dtype: int64"
      ]
     },
     "execution_count": 17,
     "metadata": {},
     "output_type": "execute_result"
    }
   ],
   "source": [
    "online_transaction_cleaned.groupby(\"customer_id\").invoice.nunique().sort_values(ascending=False).head(10)"
   ]
  },
  {
   "cell_type": "markdown",
   "id": "ebd4fb82",
   "metadata": {},
   "source": [
    "### Top 10 item the most sold"
   ]
  },
  {
   "cell_type": "code",
   "execution_count": 18,
   "id": "24d21b84",
   "metadata": {},
   "outputs": [
    {
     "data": {
      "text/plain": [
       "description\n",
       "Unknown                               99299\n",
       "PAPER CRAFT , LITTLE BIRDIE           80995\n",
       "MEDIUM CERAMIC TOP STORAGE JAR        77916\n",
       "WORLD WAR 2 GLIDERS ASSTD DESIGNS     54319\n",
       "POPCORN HOLDER                        49160\n",
       "JUMBO BAG RED RETROSPOT               46078\n",
       "CREAM HANGING HEART T-LIGHT HOLDER    36763\n",
       "ASSORTED COLOUR BIRD ORNAMENT         35263\n",
       "PACK OF 72 RETROSPOT CAKE CASES       33670\n",
       "RABBIT NIGHT LIGHT                    27153\n",
       "Name: quantity, dtype: int64"
      ]
     },
     "execution_count": 18,
     "metadata": {},
     "output_type": "execute_result"
    }
   ],
   "source": [
    "online_transaction_cleaned.groupby(\"description\").quantity.sum().sort_values(ascending=False).head(10)"
   ]
  },
  {
   "cell_type": "markdown",
   "id": "6e3cf092",
   "metadata": {},
   "source": [
    "### Customers have spent the least amount"
   ]
  },
  {
   "cell_type": "code",
   "execution_count": 19,
   "id": "9591b9b3",
   "metadata": {},
   "outputs": [
    {
     "data": {
      "text/plain": [
       "customer_id\n",
       "u13256     0.00\n",
       "u16738     3.75\n",
       "u16454     5.90\n",
       "u14792     6.20\n",
       "u17956    12.75\n",
       "u16878    13.30\n",
       "u13307    15.00\n",
       "u17763    15.00\n",
       "u16093    17.00\n",
       "u16953    20.80\n",
       "Name: total_price, dtype: float64"
      ]
     },
     "execution_count": 19,
     "metadata": {},
     "output_type": "execute_result"
    }
   ],
   "source": [
    "online_transaction_cleaned.groupby(\"customer_id\").total_price.sum().sort_values().head(10)"
   ]
  }
 ],
 "metadata": {
  "kernelspec": {
   "display_name": "Python 3 (ipykernel)",
   "language": "python",
   "name": "python3"
  },
  "language_info": {
   "codemirror_mode": {
    "name": "ipython",
    "version": 3
   },
   "file_extension": ".py",
   "mimetype": "text/x-python",
   "name": "python",
   "nbconvert_exporter": "python",
   "pygments_lexer": "ipython3",
   "version": "3.11.1"
  }
 },
 "nbformat": 4,
 "nbformat_minor": 5
}
